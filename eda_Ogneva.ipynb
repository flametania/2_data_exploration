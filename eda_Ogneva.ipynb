{
 "cells": [
  {
   "cell_type": "markdown",
   "id": "d07912a0",
   "metadata": {},
   "source": [
    "# Context"
   ]
  },
  {
   "cell_type": "code",
   "execution_count": 127,
   "id": "b489cb9e",
   "metadata": {},
   "outputs": [],
   "source": [
    "import pandas as pd\n",
    "import numpy as np\n",
    "import matplotlib.pyplot as plt\n",
    "%matplotlib inline\n",
    "import seaborn as sns"
   ]
  },
  {
   "cell_type": "code",
   "execution_count": 128,
   "id": "b73e23ff",
   "metadata": {},
   "outputs": [],
   "source": [
    "train_data = pd.read_csv('train.csv')"
   ]
  },
  {
   "cell_type": "markdown",
   "id": "9b4320c6",
   "metadata": {},
   "source": [
    "# Data quality assessment"
   ]
  },
  {
   "cell_type": "code",
   "execution_count": 129,
   "id": "838cc194",
   "metadata": {},
   "outputs": [
    {
     "data": {
      "text/html": [
       "<div>\n",
       "<style scoped>\n",
       "    .dataframe tbody tr th:only-of-type {\n",
       "        vertical-align: middle;\n",
       "    }\n",
       "\n",
       "    .dataframe tbody tr th {\n",
       "        vertical-align: top;\n",
       "    }\n",
       "\n",
       "    .dataframe thead th {\n",
       "        text-align: right;\n",
       "    }\n",
       "</style>\n",
       "<table border=\"1\" class=\"dataframe\">\n",
       "  <thead>\n",
       "    <tr style=\"text-align: right;\">\n",
       "      <th></th>\n",
       "      <th>PassengerId</th>\n",
       "      <th>Survived</th>\n",
       "      <th>Pclass</th>\n",
       "      <th>Name</th>\n",
       "      <th>Sex</th>\n",
       "      <th>Age</th>\n",
       "      <th>SibSp</th>\n",
       "      <th>Parch</th>\n",
       "      <th>Ticket</th>\n",
       "      <th>Fare</th>\n",
       "      <th>Cabin</th>\n",
       "      <th>Embarked</th>\n",
       "    </tr>\n",
       "  </thead>\n",
       "  <tbody>\n",
       "    <tr>\n",
       "      <th>0</th>\n",
       "      <td>0</td>\n",
       "      <td>1</td>\n",
       "      <td>1</td>\n",
       "      <td>Oconnor, Frankie</td>\n",
       "      <td>male</td>\n",
       "      <td>NaN</td>\n",
       "      <td>2</td>\n",
       "      <td>0</td>\n",
       "      <td>209245</td>\n",
       "      <td>27.14</td>\n",
       "      <td>C12239</td>\n",
       "      <td>S</td>\n",
       "    </tr>\n",
       "    <tr>\n",
       "      <th>1</th>\n",
       "      <td>1</td>\n",
       "      <td>0</td>\n",
       "      <td>3</td>\n",
       "      <td>Bryan, Drew</td>\n",
       "      <td>male</td>\n",
       "      <td>NaN</td>\n",
       "      <td>0</td>\n",
       "      <td>0</td>\n",
       "      <td>27323</td>\n",
       "      <td>13.35</td>\n",
       "      <td>NaN</td>\n",
       "      <td>S</td>\n",
       "    </tr>\n",
       "    <tr>\n",
       "      <th>2</th>\n",
       "      <td>2</td>\n",
       "      <td>0</td>\n",
       "      <td>3</td>\n",
       "      <td>Owens, Kenneth</td>\n",
       "      <td>male</td>\n",
       "      <td>0.33</td>\n",
       "      <td>1</td>\n",
       "      <td>2</td>\n",
       "      <td>CA 457703</td>\n",
       "      <td>71.29</td>\n",
       "      <td>NaN</td>\n",
       "      <td>S</td>\n",
       "    </tr>\n",
       "    <tr>\n",
       "      <th>3</th>\n",
       "      <td>3</td>\n",
       "      <td>0</td>\n",
       "      <td>3</td>\n",
       "      <td>Kramer, James</td>\n",
       "      <td>male</td>\n",
       "      <td>19.00</td>\n",
       "      <td>0</td>\n",
       "      <td>0</td>\n",
       "      <td>A. 10866</td>\n",
       "      <td>13.04</td>\n",
       "      <td>NaN</td>\n",
       "      <td>S</td>\n",
       "    </tr>\n",
       "    <tr>\n",
       "      <th>4</th>\n",
       "      <td>4</td>\n",
       "      <td>1</td>\n",
       "      <td>3</td>\n",
       "      <td>Bond, Michael</td>\n",
       "      <td>male</td>\n",
       "      <td>25.00</td>\n",
       "      <td>0</td>\n",
       "      <td>0</td>\n",
       "      <td>427635</td>\n",
       "      <td>7.76</td>\n",
       "      <td>NaN</td>\n",
       "      <td>S</td>\n",
       "    </tr>\n",
       "  </tbody>\n",
       "</table>\n",
       "</div>"
      ],
      "text/plain": [
       "   PassengerId  Survived  Pclass              Name   Sex    Age  SibSp  Parch  \\\n",
       "0            0         1       1  Oconnor, Frankie  male    NaN      2      0   \n",
       "1            1         0       3       Bryan, Drew  male    NaN      0      0   \n",
       "2            2         0       3    Owens, Kenneth  male   0.33      1      2   \n",
       "3            3         0       3     Kramer, James  male  19.00      0      0   \n",
       "4            4         1       3     Bond, Michael  male  25.00      0      0   \n",
       "\n",
       "      Ticket   Fare   Cabin Embarked  \n",
       "0     209245  27.14  C12239        S  \n",
       "1      27323  13.35     NaN        S  \n",
       "2  CA 457703  71.29     NaN        S  \n",
       "3   A. 10866  13.04     NaN        S  \n",
       "4     427635   7.76     NaN        S  "
      ]
     },
     "execution_count": 129,
     "metadata": {},
     "output_type": "execute_result"
    }
   ],
   "source": [
    "train_data.head()"
   ]
  },
  {
   "cell_type": "markdown",
   "id": "018c47a7",
   "metadata": {},
   "source": [
    "Имеем 12 столбцов: PassengerId - Id пассажира, Survived - индикатор выживаемости, Pclass - класс, которым плыл пассажир, Name - имя, Sex - пол, Age - возраст, SibSp - количество братьев, сестер, супругов на борту, Parch - количество родителей, детей на борту, Ticket - билет, Fare - стоимость, Cabin - каюта, Embarked - порт."
   ]
  },
  {
   "cell_type": "code",
   "execution_count": 130,
   "id": "005d8b5b",
   "metadata": {},
   "outputs": [
    {
     "data": {
      "text/plain": [
       "(100000, 12)"
      ]
     },
     "execution_count": 130,
     "metadata": {},
     "output_type": "execute_result"
    }
   ],
   "source": [
    "train_data.shape"
   ]
  },
  {
   "cell_type": "code",
   "execution_count": 131,
   "id": "cb15ad38",
   "metadata": {},
   "outputs": [
    {
     "name": "stdout",
     "output_type": "stream",
     "text": [
      "<class 'pandas.core.frame.DataFrame'>\n",
      "RangeIndex: 100000 entries, 0 to 99999\n",
      "Data columns (total 12 columns):\n",
      " #   Column       Non-Null Count   Dtype  \n",
      "---  ------       --------------   -----  \n",
      " 0   PassengerId  100000 non-null  int64  \n",
      " 1   Survived     100000 non-null  int64  \n",
      " 2   Pclass       100000 non-null  int64  \n",
      " 3   Name         100000 non-null  object \n",
      " 4   Sex          100000 non-null  object \n",
      " 5   Age          96708 non-null   float64\n",
      " 6   SibSp        100000 non-null  int64  \n",
      " 7   Parch        100000 non-null  int64  \n",
      " 8   Ticket       95377 non-null   object \n",
      " 9   Fare         99866 non-null   float64\n",
      " 10  Cabin        32134 non-null   object \n",
      " 11  Embarked     99750 non-null   object \n",
      "dtypes: float64(2), int64(5), object(5)\n",
      "memory usage: 9.2+ MB\n"
     ]
    }
   ],
   "source": [
    "train_data.info()"
   ]
  },
  {
   "cell_type": "markdown",
   "id": "202f8801",
   "metadata": {},
   "source": [
    "Таким образом, пропусков нет в столбцах PassengerId, Survived, Pclass, Name, Sex, SibSp, Parch. В столбцах Age, Ticket, Fare, Embarked более 90% записей заполнено, а вот в столбце Cabin всего около 30%. Попробуем заполнить пропуски."
   ]
  },
  {
   "cell_type": "markdown",
   "id": "fe071d4e",
   "metadata": {},
   "source": [
    "Начнем со столбца с портом."
   ]
  },
  {
   "cell_type": "code",
   "execution_count": 132,
   "id": "e443ca82",
   "metadata": {},
   "outputs": [
    {
     "data": {
      "text/plain": [
       "Embarked\n",
       "C    22187\n",
       "Q     5424\n",
       "S    72139\n",
       "Name: PassengerId, dtype: int64"
      ]
     },
     "execution_count": 132,
     "metadata": {},
     "output_type": "execute_result"
    }
   ],
   "source": [
    "embarked_data = train_data.groupby('Embarked')['PassengerId'].aggregate('count')\n",
    "embarked_data"
   ]
  },
  {
   "cell_type": "markdown",
   "id": "1f951cd2",
   "metadata": {},
   "source": [
    "Как видим, больше всего (значительно больше) людей село в порту Southampton, заполним пропуски в этом столбце буквой S."
   ]
  },
  {
   "cell_type": "code",
   "execution_count": 133,
   "id": "837f6dbd",
   "metadata": {},
   "outputs": [
    {
     "name": "stdout",
     "output_type": "stream",
     "text": [
      "<class 'pandas.core.frame.DataFrame'>\n",
      "RangeIndex: 100000 entries, 0 to 99999\n",
      "Data columns (total 12 columns):\n",
      " #   Column       Non-Null Count   Dtype  \n",
      "---  ------       --------------   -----  \n",
      " 0   PassengerId  100000 non-null  int64  \n",
      " 1   Survived     100000 non-null  int64  \n",
      " 2   Pclass       100000 non-null  int64  \n",
      " 3   Name         100000 non-null  object \n",
      " 4   Sex          100000 non-null  object \n",
      " 5   Age          96708 non-null   float64\n",
      " 6   SibSp        100000 non-null  int64  \n",
      " 7   Parch        100000 non-null  int64  \n",
      " 8   Ticket       95377 non-null   object \n",
      " 9   Fare         99866 non-null   float64\n",
      " 10  Cabin        32134 non-null   object \n",
      " 11  Embarked     100000 non-null  object \n",
      "dtypes: float64(2), int64(5), object(5)\n",
      "memory usage: 9.2+ MB\n"
     ]
    }
   ],
   "source": [
    "train_data['Embarked'] = train_data['Embarked'].fillna('S')\n",
    "train_data.info()"
   ]
  },
  {
   "cell_type": "markdown",
   "id": "ce2a4dbe",
   "metadata": {},
   "source": [
    "Теперь посмотрим на возраст. Заменим пропуски на средний возраст по классу, так как с увеличением возраста увеличивается благосостояние."
   ]
  },
  {
   "cell_type": "code",
   "execution_count": 134,
   "id": "9a17b3ad",
   "metadata": {},
   "outputs": [
    {
     "data": {
      "text/plain": [
       "{1: 44.77446393895003, 2: 38.631237243518086, 3: 33.407362204724414}"
      ]
     },
     "execution_count": 134,
     "metadata": {},
     "output_type": "execute_result"
    }
   ],
   "source": [
    "age_data = train_data.groupby('Pclass')['Age'].aggregate('mean')\n",
    "dict(age_data)"
   ]
  },
  {
   "cell_type": "code",
   "execution_count": 135,
   "id": "cdcd6d9d",
   "metadata": {},
   "outputs": [
    {
     "name": "stdout",
     "output_type": "stream",
     "text": [
      "<class 'pandas.core.frame.DataFrame'>\n",
      "RangeIndex: 100000 entries, 0 to 99999\n",
      "Data columns (total 12 columns):\n",
      " #   Column       Non-Null Count   Dtype  \n",
      "---  ------       --------------   -----  \n",
      " 0   PassengerId  100000 non-null  int64  \n",
      " 1   Survived     100000 non-null  int64  \n",
      " 2   Pclass       100000 non-null  int64  \n",
      " 3   Name         100000 non-null  object \n",
      " 4   Sex          100000 non-null  object \n",
      " 5   Age          100000 non-null  float64\n",
      " 6   SibSp        100000 non-null  int64  \n",
      " 7   Parch        100000 non-null  int64  \n",
      " 8   Ticket       95377 non-null   object \n",
      " 9   Fare         99866 non-null   float64\n",
      " 10  Cabin        32134 non-null   object \n",
      " 11  Embarked     100000 non-null  object \n",
      "dtypes: float64(2), int64(5), object(5)\n",
      "memory usage: 9.2+ MB\n"
     ]
    }
   ],
   "source": [
    "dict_mean_age = dict(age_data)\n",
    "train_data['mean_age'] = train_data['Pclass'].map(dict_mean_age)\n",
    "train_data['Age'] = train_data['Age'].fillna(train_data['mean_age'])\n",
    "train_data = train_data.drop('mean_age', axis=1)\n",
    "train_data.info()"
   ]
  },
  {
   "cell_type": "markdown",
   "id": "8c882adf",
   "metadata": {},
   "source": [
    "Аналогичным образом заменим пропущенные значения в столбце с оплатой (среднее по классу)"
   ]
  },
  {
   "cell_type": "code",
   "execution_count": 136,
   "id": "45c741a3",
   "metadata": {},
   "outputs": [
    {
     "data": {
      "text/plain": [
       "{1: 92.65311345995045, 2: 25.756003422146176, 3: 20.618226058504664}"
      ]
     },
     "execution_count": 136,
     "metadata": {},
     "output_type": "execute_result"
    }
   ],
   "source": [
    "fare_data = train_data.groupby('Pclass')['Fare'].aggregate('mean')\n",
    "dict(fare_data)"
   ]
  },
  {
   "cell_type": "code",
   "execution_count": 137,
   "id": "67dcd946",
   "metadata": {},
   "outputs": [
    {
     "name": "stdout",
     "output_type": "stream",
     "text": [
      "<class 'pandas.core.frame.DataFrame'>\n",
      "RangeIndex: 100000 entries, 0 to 99999\n",
      "Data columns (total 12 columns):\n",
      " #   Column       Non-Null Count   Dtype  \n",
      "---  ------       --------------   -----  \n",
      " 0   PassengerId  100000 non-null  int64  \n",
      " 1   Survived     100000 non-null  int64  \n",
      " 2   Pclass       100000 non-null  int64  \n",
      " 3   Name         100000 non-null  object \n",
      " 4   Sex          100000 non-null  object \n",
      " 5   Age          100000 non-null  float64\n",
      " 6   SibSp        100000 non-null  int64  \n",
      " 7   Parch        100000 non-null  int64  \n",
      " 8   Ticket       95377 non-null   object \n",
      " 9   Fare         100000 non-null  float64\n",
      " 10  Cabin        32134 non-null   object \n",
      " 11  Embarked     100000 non-null  object \n",
      "dtypes: float64(2), int64(5), object(5)\n",
      "memory usage: 9.2+ MB\n"
     ]
    }
   ],
   "source": [
    "dict_mean_fare = dict(fare_data)\n",
    "train_data['mean_fare'] = train_data['Pclass'].map(dict_mean_fare)\n",
    "train_data['Fare'] = train_data['Fare'].fillna(train_data['mean_fare'])\n",
    "train_data = train_data.drop('mean_fare', axis=1)\n",
    "train_data.info()"
   ]
  },
  {
   "cell_type": "markdown",
   "id": "5408eca5",
   "metadata": {},
   "source": [
    "# Data exploration"
   ]
  },
  {
   "cell_type": "markdown",
   "id": "67961c29",
   "metadata": {},
   "source": [
    "Посмотрим, сколько пассажиров выжило."
   ]
  },
  {
   "cell_type": "code",
   "execution_count": 138,
   "id": "fd2e2513",
   "metadata": {},
   "outputs": [
    {
     "data": {
      "text/html": [
       "<div>\n",
       "<style scoped>\n",
       "    .dataframe tbody tr th:only-of-type {\n",
       "        vertical-align: middle;\n",
       "    }\n",
       "\n",
       "    .dataframe tbody tr th {\n",
       "        vertical-align: top;\n",
       "    }\n",
       "\n",
       "    .dataframe thead th {\n",
       "        text-align: right;\n",
       "    }\n",
       "</style>\n",
       "<table border=\"1\" class=\"dataframe\">\n",
       "  <thead>\n",
       "    <tr style=\"text-align: right;\">\n",
       "      <th></th>\n",
       "      <th>Survived</th>\n",
       "      <th>surv_amount</th>\n",
       "    </tr>\n",
       "  </thead>\n",
       "  <tbody>\n",
       "    <tr>\n",
       "      <th>0</th>\n",
       "      <td>0</td>\n",
       "      <td>57226</td>\n",
       "    </tr>\n",
       "    <tr>\n",
       "      <th>1</th>\n",
       "      <td>1</td>\n",
       "      <td>42774</td>\n",
       "    </tr>\n",
       "  </tbody>\n",
       "</table>\n",
       "</div>"
      ],
      "text/plain": [
       "   Survived  surv_amount\n",
       "0         0        57226\n",
       "1         1        42774"
      ]
     },
     "execution_count": 138,
     "metadata": {},
     "output_type": "execute_result"
    }
   ],
   "source": [
    "survived_data = pd.Series.to_frame(train_data.groupby('Survived')['PassengerId'] \\\n",
    "                                          .aggregate('count')).reset_index().rename(columns={'PassengerId': 'surv_amount'})\n",
    "survived_data"
   ]
  },
  {
   "cell_type": "markdown",
   "id": "7d71c497",
   "metadata": {},
   "source": [
    "Пассажиров больше погибло, чем спаслось."
   ]
  },
  {
   "cell_type": "markdown",
   "id": "7ac31bfd",
   "metadata": {},
   "source": [
    "Посмотрим, кого больше - мужчин или женщин"
   ]
  },
  {
   "cell_type": "code",
   "execution_count": 139,
   "id": "d5d06387",
   "metadata": {},
   "outputs": [
    {
     "data": {
      "text/html": [
       "<div>\n",
       "<style scoped>\n",
       "    .dataframe tbody tr th:only-of-type {\n",
       "        vertical-align: middle;\n",
       "    }\n",
       "\n",
       "    .dataframe tbody tr th {\n",
       "        vertical-align: top;\n",
       "    }\n",
       "\n",
       "    .dataframe thead th {\n",
       "        text-align: right;\n",
       "    }\n",
       "</style>\n",
       "<table border=\"1\" class=\"dataframe\">\n",
       "  <thead>\n",
       "    <tr style=\"text-align: right;\">\n",
       "      <th></th>\n",
       "      <th>Sex</th>\n",
       "      <th>surv_amount</th>\n",
       "    </tr>\n",
       "  </thead>\n",
       "  <tbody>\n",
       "    <tr>\n",
       "      <th>0</th>\n",
       "      <td>female</td>\n",
       "      <td>43886</td>\n",
       "    </tr>\n",
       "    <tr>\n",
       "      <th>1</th>\n",
       "      <td>male</td>\n",
       "      <td>56114</td>\n",
       "    </tr>\n",
       "  </tbody>\n",
       "</table>\n",
       "</div>"
      ],
      "text/plain": [
       "      Sex  surv_amount\n",
       "0  female        43886\n",
       "1    male        56114"
      ]
     },
     "execution_count": 139,
     "metadata": {},
     "output_type": "execute_result"
    }
   ],
   "source": [
    "sex_data = pd.Series.to_frame(train_data.groupby('Sex')['PassengerId'] \\\n",
    "                                          .aggregate('count')).reset_index().rename(columns={'PassengerId': 'surv_amount'})\n",
    "sex_data"
   ]
  },
  {
   "cell_type": "markdown",
   "id": "2553f6d0",
   "metadata": {},
   "source": [
    "Больше мужчин, чем женщин"
   ]
  },
  {
   "cell_type": "markdown",
   "id": "6fc9341a",
   "metadata": {},
   "source": [
    "Посмотрим, сколько пассажиров из каждого класса выжило."
   ]
  },
  {
   "cell_type": "code",
   "execution_count": 140,
   "id": "b1d32161",
   "metadata": {},
   "outputs": [
    {
     "data": {
      "text/html": [
       "<div>\n",
       "<style scoped>\n",
       "    .dataframe tbody tr th:only-of-type {\n",
       "        vertical-align: middle;\n",
       "    }\n",
       "\n",
       "    .dataframe tbody tr th {\n",
       "        vertical-align: top;\n",
       "    }\n",
       "\n",
       "    .dataframe thead th {\n",
       "        text-align: right;\n",
       "    }\n",
       "</style>\n",
       "<table border=\"1\" class=\"dataframe\">\n",
       "  <thead>\n",
       "    <tr style=\"text-align: right;\">\n",
       "      <th></th>\n",
       "      <th>Pclass</th>\n",
       "      <th>Survived</th>\n",
       "      <th>surv_amount</th>\n",
       "    </tr>\n",
       "  </thead>\n",
       "  <tbody>\n",
       "    <tr>\n",
       "      <th>0</th>\n",
       "      <td>1</td>\n",
       "      <td>0</td>\n",
       "      <td>12739</td>\n",
       "    </tr>\n",
       "    <tr>\n",
       "      <th>1</th>\n",
       "      <td>1</td>\n",
       "      <td>1</td>\n",
       "      <td>17576</td>\n",
       "    </tr>\n",
       "    <tr>\n",
       "      <th>2</th>\n",
       "      <td>2</td>\n",
       "      <td>0</td>\n",
       "      <td>13622</td>\n",
       "    </tr>\n",
       "    <tr>\n",
       "      <th>3</th>\n",
       "      <td>2</td>\n",
       "      <td>1</td>\n",
       "      <td>15057</td>\n",
       "    </tr>\n",
       "    <tr>\n",
       "      <th>4</th>\n",
       "      <td>3</td>\n",
       "      <td>0</td>\n",
       "      <td>30865</td>\n",
       "    </tr>\n",
       "    <tr>\n",
       "      <th>5</th>\n",
       "      <td>3</td>\n",
       "      <td>1</td>\n",
       "      <td>10141</td>\n",
       "    </tr>\n",
       "  </tbody>\n",
       "</table>\n",
       "</div>"
      ],
      "text/plain": [
       "   Pclass  Survived  surv_amount\n",
       "0       1         0        12739\n",
       "1       1         1        17576\n",
       "2       2         0        13622\n",
       "3       2         1        15057\n",
       "4       3         0        30865\n",
       "5       3         1        10141"
      ]
     },
     "execution_count": 140,
     "metadata": {},
     "output_type": "execute_result"
    }
   ],
   "source": [
    "survived_pclass_data = pd.Series.to_frame(train_data.groupby(['Pclass', 'Survived'])['PassengerId'] \\\n",
    "                                          .aggregate('count')).reset_index().rename(columns={'PassengerId': 'surv_amount'})\n",
    "survived_pclass_data"
   ]
  },
  {
   "cell_type": "markdown",
   "id": "3a11103d",
   "metadata": {},
   "source": [
    "Для сравнения процента выживаемости нам необходимо поделить количество выживших на общее количество людей в классе и умножить на 100. В столбце Survived индекс 0, если человек не выжил, и 1, если спасся."
   ]
  },
  {
   "cell_type": "code",
   "execution_count": 141,
   "id": "49e3dec1",
   "metadata": {},
   "outputs": [
    {
     "data": {
      "text/plain": [
       "{1: 30315, 2: 28679, 3: 41006}"
      ]
     },
     "execution_count": 141,
     "metadata": {},
     "output_type": "execute_result"
    }
   ],
   "source": [
    "dict_pclass_data = dict(train_data.groupby(['Pclass'])['PassengerId'].aggregate('count'))\n",
    "dict_pclass_data"
   ]
  },
  {
   "cell_type": "markdown",
   "id": "05df192f",
   "metadata": {},
   "source": [
    "Оставим только выживших"
   ]
  },
  {
   "cell_type": "code",
   "execution_count": 142,
   "id": "f3d3159f",
   "metadata": {},
   "outputs": [
    {
     "data": {
      "text/html": [
       "<div>\n",
       "<style scoped>\n",
       "    .dataframe tbody tr th:only-of-type {\n",
       "        vertical-align: middle;\n",
       "    }\n",
       "\n",
       "    .dataframe tbody tr th {\n",
       "        vertical-align: top;\n",
       "    }\n",
       "\n",
       "    .dataframe thead th {\n",
       "        text-align: right;\n",
       "    }\n",
       "</style>\n",
       "<table border=\"1\" class=\"dataframe\">\n",
       "  <thead>\n",
       "    <tr style=\"text-align: right;\">\n",
       "      <th></th>\n",
       "      <th>Survived</th>\n",
       "      <th>surv_amount</th>\n",
       "      <th>whole_amont</th>\n",
       "      <th>percent_of_survived</th>\n",
       "    </tr>\n",
       "    <tr>\n",
       "      <th>Pclass</th>\n",
       "      <th></th>\n",
       "      <th></th>\n",
       "      <th></th>\n",
       "      <th></th>\n",
       "    </tr>\n",
       "  </thead>\n",
       "  <tbody>\n",
       "    <tr>\n",
       "      <th>1</th>\n",
       "      <td>1</td>\n",
       "      <td>17576</td>\n",
       "      <td>30315</td>\n",
       "      <td>57.977899</td>\n",
       "    </tr>\n",
       "    <tr>\n",
       "      <th>2</th>\n",
       "      <td>1</td>\n",
       "      <td>15057</td>\n",
       "      <td>28679</td>\n",
       "      <td>52.501831</td>\n",
       "    </tr>\n",
       "    <tr>\n",
       "      <th>3</th>\n",
       "      <td>1</td>\n",
       "      <td>10141</td>\n",
       "      <td>41006</td>\n",
       "      <td>24.730527</td>\n",
       "    </tr>\n",
       "  </tbody>\n",
       "</table>\n",
       "</div>"
      ],
      "text/plain": [
       "        Survived  surv_amount  whole_amont  percent_of_survived\n",
       "Pclass                                                         \n",
       "1              1        17576        30315            57.977899\n",
       "2              1        15057        28679            52.501831\n",
       "3              1        10141        41006            24.730527"
      ]
     },
     "execution_count": 142,
     "metadata": {},
     "output_type": "execute_result"
    }
   ],
   "source": [
    "survived_pclass_data['whole_amont'] = survived_pclass_data['Pclass'].map(dict_pclass_data)\n",
    "survived_pclass_data['percent_of_survived'] = survived_pclass_data['surv_amount'] / survived_pclass_data['whole_amont'] * 100\n",
    "survived_pclass_data = survived_pclass_data.drop_duplicates('Pclass', keep='last').reset_index(drop=True).set_index('Pclass')\n",
    "survived_pclass_data"
   ]
  },
  {
   "cell_type": "markdown",
   "id": "e941b967",
   "metadata": {},
   "source": [
    "Проиллюстрируем"
   ]
  },
  {
   "cell_type": "code",
   "execution_count": 143,
   "id": "efdb6bfe",
   "metadata": {},
   "outputs": [
    {
     "data": {
      "text/plain": [
       "<AxesSubplot:title={'center':'Статистика выживших'}, xlabel='Номер класса', ylabel='Процент выживших'>"
      ]
     },
     "execution_count": 143,
     "metadata": {},
     "output_type": "execute_result"
    },
    {
     "data": {
      "image/png": "[encoded data removed]",
      "text/plain": [
       "<Figure size 432x288 with 1 Axes>"
      ]
     },
     "metadata": {
      "needs_background": "light"
     },
     "output_type": "display_data"
    }
   ],
   "source": [
    "survived_pclass_data['percent_of_survived'].plot.bar(color=(0, 1, 1),\n",
    "                                                     #figsize=(6, 15),\n",
    "                                                     title='Статистика выживших',\n",
    "                                                     xlabel='Номер класса',\n",
    "                                                     ylabel='Процент выживших')"
   ]
  },
  {
   "cell_type": "markdown",
   "id": "0a24abc0",
   "metadata": {},
   "source": [
    "Гистограмма наглядно показывает, что больше всего спаслось людей, имевших места в 1 классе, меньше всего - в 3. Однако разница между 1 и 2 и между 2 и 3 довольно сильно отличается - в первом случае небольшая, во втором - очень большая."
   ]
  },
  {
   "cell_type": "markdown",
   "id": "1c132394",
   "metadata": {},
   "source": [
    "Посмотрим теперь процент выживаемости в соответствии с полом."
   ]
  },
  {
   "cell_type": "code",
   "execution_count": 144,
   "id": "5cf0f843",
   "metadata": {},
   "outputs": [
    {
     "data": {
      "text/plain": [
       "<AxesSubplot:title={'center':'Статистика выживших'}, xlabel='Пол', ylabel='Процент выживших'>"
      ]
     },
     "execution_count": 144,
     "metadata": {},
     "output_type": "execute_result"
    },
    {
     "data": {
      "image/png": "[encoded data removed]",
      "text/plain": [
       "<Figure size 432x288 with 1 Axes>"
      ]
     },
     "metadata": {
      "needs_background": "light"
     },
     "output_type": "display_data"
    }
   ],
   "source": [
    "survived_sex_data = pd.Series.to_frame(train_data.groupby(['Sex', 'Survived'])['PassengerId'] \\\n",
    "                                          .aggregate('count')).reset_index().rename(columns={'PassengerId': 'surv_amount'})\n",
    "dict_sex_data = dict(train_data.groupby(['Sex'])['PassengerId'].aggregate('count'))\n",
    "survived_sex_data['whole_amont'] = survived_sex_data['Sex'].map(dict_sex_data)\n",
    "survived_sex_data['percent_of_survived'] = survived_sex_data['surv_amount'] / survived_sex_data['whole_amont'] * 100\n",
    "survived_sex_data = survived_sex_data.drop_duplicates('Sex', keep='last').reset_index(drop=True).set_index('Sex')\n",
    "survived_sex_data['percent_of_survived'].plot.bar(color=(0, 1, 1),\n",
    "                                                     #figsize=(6, 15),\n",
    "                                                     title='Статистика выживших',\n",
    "                                                     xlabel='Пол',\n",
    "                                                     ylabel='Процент выживших')"
   ]
  },
  {
   "cell_type": "markdown",
   "id": "615399fd",
   "metadata": {},
   "source": [
    "Из пассажиров выжили около 70% женщин и около 20% мужчин. Возможно, женщинам отдавалось предпочтение при посадке в шлюпки, возможно, их было значительно меньше."
   ]
  },
  {
   "cell_type": "code",
   "execution_count": 145,
   "id": "7af4ee6e",
   "metadata": {},
   "outputs": [
    {
     "data": {
      "text/plain": [
       "<BarContainer object of 2 artists>"
      ]
     },
     "execution_count": 145,
     "metadata": {},
     "output_type": "execute_result"
    },
    {
     "data": {
      "image/png": "[encoded data removed]",
      "text/plain": [
       "<Figure size 432x288 with 1 Axes>"
      ]
     },
     "metadata": {
      "needs_background": "light"
     },
     "output_type": "display_data"
    }
   ],
   "source": [
    "plt.bar(dict_sex_data.keys(), dict_sex_data.values(), label=\"Количество женщин и мужчин\", color=(0, 1, 1))"
   ]
  },
  {
   "cell_type": "markdown",
   "id": "7c53d8c2",
   "metadata": {},
   "source": [
    "Женщин было меньше, чем мужчин, но не слишком, то есть более вероятна первая гипотеза."
   ]
  },
  {
   "cell_type": "markdown",
   "id": "bf106313",
   "metadata": {},
   "source": [
    "Выделим отдельные таблицы для мужчин и женщин и посмотрим связь выживаемости с возрастом."
   ]
  },
  {
   "cell_type": "code",
   "execution_count": 146,
   "id": "0d0e6395",
   "metadata": {},
   "outputs": [
    {
     "data": {
      "text/plain": [
       "<AxesSubplot:title={'center':'Статистика выживших'}, xlabel='Age'>"
      ]
     },
     "execution_count": 146,
     "metadata": {},
     "output_type": "execute_result"
    },
    {
     "data": {
      "image/png": "[encoded data removed]",
      "text/plain": [
       "<Figure size 432x288 with 1 Axes>"
      ]
     },
     "metadata": {
      "needs_background": "light"
     },
     "output_type": "display_data"
    }
   ],
   "source": [
    "train_data_male = train_data[train_data['Sex'] == 'male']\n",
    "\n",
    "survived_male_age_data = pd.Series.to_frame(train_data_male.groupby(['Age', 'Survived'])['PassengerId'] \\\n",
    "                                          .aggregate('count')).reset_index().rename(columns={'PassengerId': 'surv_amount'})\n",
    "dict_male_age_data = dict(train_data.groupby(['Age'])['PassengerId'].aggregate('count'))\n",
    "survived_male_age_data['whole_amount'] = survived_male_age_data['Age'].map(dict_male_age_data)\n",
    "survived_male_age_data['percent_of_survived'] = survived_male_age_data['surv_amount'] / survived_male_age_data['whole_amount'] * 100\n",
    "survived_male_age_data = survived_male_age_data.drop_duplicates('Age', keep='last').reset_index(drop=True).drop(['Survived', 'surv_amount', 'whole_amount'], axis=1).set_index('Age')\n",
    "survived_male_age_data.plot(color=(0, 1, 1), title='Статистика выживших')"
   ]
  },
  {
   "cell_type": "code",
   "execution_count": 147,
   "id": "648dab71",
   "metadata": {},
   "outputs": [
    {
     "data": {
      "text/plain": [
       "<AxesSubplot:title={'center':'Статистика выживших'}, xlabel='Age'>"
      ]
     },
     "execution_count": 147,
     "metadata": {},
     "output_type": "execute_result"
    },
    {
     "data": {
      "image/png": "[encoded data removed]",
      "text/plain": [
       "<Figure size 432x288 with 1 Axes>"
      ]
     },
     "metadata": {
      "needs_background": "light"
     },
     "output_type": "display_data"
    }
   ],
   "source": [
    "train_data_female = train_data[train_data['Sex'] == 'female']\n",
    "\n",
    "survived_female_age_data = pd.Series.to_frame(train_data_female.groupby(['Age', 'Survived'])['PassengerId'] \\\n",
    "                                          .aggregate('count')).reset_index().rename(columns={'PassengerId': 'surv_amount'})\n",
    "dict_female_age_data = dict(train_data.groupby(['Age'])['PassengerId'].aggregate('count'))\n",
    "survived_female_age_data['whole_amount'] = survived_female_age_data['Age'].map(dict_female_age_data)\n",
    "survived_female_age_data['percent_of_survived'] = survived_female_age_data['surv_amount'] / survived_female_age_data['whole_amount'] * 100\n",
    "survived_female_age_data = survived_female_age_data.drop_duplicates('Age', keep='last').reset_index(drop=True).drop(['Survived', 'surv_amount', 'whole_amount'], axis=1).set_index('Age')\n",
    "survived_female_age_data.plot(color=(0, 1, 1), title='Статистика выживших')"
   ]
  },
  {
   "cell_type": "markdown",
   "id": "e1d2f845",
   "metadata": {},
   "source": [
    "Таким образом, среди женщин в основном выжили люди до 20 лет и после 70, про мужчин же ничего сказать нельзя"
   ]
  },
  {
   "cell_type": "markdown",
   "id": "d28af88f",
   "metadata": {},
   "source": [
    "Посмотрим процент выживаемости в соответствии с портом"
   ]
  },
  {
   "cell_type": "code",
   "execution_count": 148,
   "id": "027e06de",
   "metadata": {},
   "outputs": [
    {
     "data": {
      "text/plain": [
       "<AxesSubplot:title={'center':'Статистика выживших'}, xlabel='Порт', ylabel='Процент выживших'>"
      ]
     },
     "execution_count": 148,
     "metadata": {},
     "output_type": "execute_result"
    },
    {
     "data": {
      "image/png": "[encoded data removed]",
      "text/plain": [
       "<Figure size 432x288 with 1 Axes>"
      ]
     },
     "metadata": {
      "needs_background": "light"
     },
     "output_type": "display_data"
    }
   ],
   "source": [
    "survived_embarked_data = pd.Series.to_frame(train_data.groupby(['Embarked', 'Survived'])['PassengerId'] \\\n",
    "                                          .aggregate('count')).reset_index().rename(columns={'PassengerId': 'surv_amount'})\n",
    "dict_embarked_data = dict(train_data.groupby(['Embarked'])['PassengerId'].aggregate('count'))\n",
    "survived_embarked_data['whole_amont'] = survived_embarked_data['Embarked'].map(dict_embarked_data)\n",
    "survived_embarked_data['percent_of_survived'] = survived_embarked_data['surv_amount'] / survived_embarked_data['whole_amont'] * 100\n",
    "survived_embarked_data = survived_embarked_data.drop_duplicates('Embarked', keep='last').reset_index(drop=True).set_index('Embarked')\n",
    "survived_embarked_data['percent_of_survived'].plot.bar(color=(0, 1, 1),\n",
    "                                                     #figsize=(6, 15),\n",
    "                                                     title='Статистика выживших',\n",
    "                                                     xlabel='Порт',\n",
    "                                                     ylabel='Процент выживших')"
   ]
  },
  {
   "cell_type": "code",
   "execution_count": 149,
   "id": "4a9dd907",
   "metadata": {},
   "outputs": [
    {
     "data": {
      "text/plain": [
       "Embarked\n",
       "C    22187\n",
       "Q     5424\n",
       "S    72389\n",
       "Name: PassengerId, dtype: int64"
      ]
     },
     "execution_count": 149,
     "metadata": {},
     "output_type": "execute_result"
    }
   ],
   "source": [
    "train_data.groupby('Embarked')['PassengerId'].aggregate('count')"
   ]
  },
  {
   "cell_type": "markdown",
   "id": "f2a82127",
   "metadata": {},
   "source": [
    "Нельзя выдвинуть никакую гипотезу, потому что количество людей в портах сильно различается"
   ]
  },
  {
   "cell_type": "markdown",
   "id": "034945c8",
   "metadata": {},
   "source": [
    "# Summary"
   ]
  },
  {
   "cell_type": "markdown",
   "id": "f59cdc3d",
   "metadata": {},
   "source": [
    "Предобработка:\n",
    "1. Больше всего людей садилось в порте Southampton, заменили пропущенные значения на соответствующую аббревиатуру\n",
    "2. Класс каюты - показатель благосостояния, заменили пропущенные значения в столбце с оплатой на среднее по классу\n",
    "3. С возрастом благосостояние увеличивется, поэтому пропущенные значения в столбце с возрастом заменили на средний возраст по классу"
   ]
  },
  {
   "cell_type": "markdown",
   "id": "92b2811f",
   "metadata": {},
   "source": [
    "Исследование:\n",
    "1. Пассажиров больше погибло, чем спаслось.\n",
    "2. Среди пассажиров было больше мужчин, чем женщин.\n",
    "3. Зависимость количества выживших от класса - чем лучше класс, тем больше процент выживаемости.\n",
    "4. Зависимость количества выживших от пола - женщины выживали с большей вероятностью, чем мужчины.\n",
    "5. Зависимость выживаемости женщин и мужчин от возраста. Из женщин с большой вероятностью выжили старше 70 и моложе 20, про мужчин ничего сказать нельзя.\n",
    "6. Зависимость от порта - непонятно, количество людей сильно разнится."
   ]
  }
 ],
 "metadata": {
  "kernelspec": {
   "display_name": "Python 3 (ipykernel)",
   "language": "python",
   "name": "python3"
  },
  "language_info": {
   "codemirror_mode": {
    "name": "ipython",
    "version": 3
   },
   "file_extension": ".py",
   "mimetype": "text/x-python",
   "name": "python",
   "nbconvert_exporter": "python",
   "pygments_lexer": "ipython3",
   "version": "3.9.7"
  },
  "toc": {
   "base_numbering": 1,
   "nav_menu": {},
   "number_sections": true,
   "sideBar": true,
   "skip_h1_title": false,
   "title_cell": "Table of Contents",
   "title_sidebar": "Contents",
   "toc_cell": false,
   "toc_position": {},
   "toc_section_display": true,
   "toc_window_display": false
  }
 },
 "nbformat": 4,
 "nbformat_minor": 5
}
